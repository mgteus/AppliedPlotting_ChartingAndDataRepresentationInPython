{
  "nbformat": 4,
  "nbformat_minor": 0,
  "metadata": {
    "colab": {
      "name": "A2junk.ipynb",
      "provenance": [],
      "collapsed_sections": []
    },
    "kernelspec": {
      "name": "python3",
      "display_name": "Python 3"
    }
  },
  "cells": [
    {
      "cell_type": "code",
      "metadata": {
        "id": "laVrZKrToTQs"
      },
      "source": [
        "import matplotlib.pyplot as plt\r\n",
        "import mplleaflet\r\n",
        "import pandas as pd\r\n",
        "df = pd.read_csv('data/C2A2_data/BinSize_d{}.csv'.format(binsize))\r\n",
        "\r\n",
        "\r\n",
        "\r\n",
        "\r\n",
        "\r\n",
        "def leaflet_plot_stations(binsize, hashid):\r\n",
        "\r\n",
        "    df = pd.read_csv('data/C2A2_data/BinSize_d{}.csv'.format(binsize))\r\n",
        "\r\n",
        "    station_locations_by_hash = df[df['hash'] == hashid]\r\n",
        "\r\n",
        "    lons = station_locations_by_hash['LONGITUDE'].tolist()\r\n",
        "    lats = station_locations_by_hash['LATITUDE'].tolist()\r\n",
        "\r\n",
        "    plt.figure(figsize=(8,8))\r\n",
        "\r\n",
        "    plt.scatter(lons, lats, c='r', alpha=0.7, s=200)\r\n",
        "\r\n",
        "    return mplleaflet.display()\r\n",
        "\r\n",
        "#leaflet_plot_stations(400,'fb441e62df2d58994928907a91895ec62c2c42e6cd075c2700843b89')\r\n",
        "\r\n",
        "\r\n",
        "\r\n",
        "\r\n",
        "df = df[df['hash']== hashid]\r\n",
        "\r\n",
        "df2 = df.copy()\r\n",
        " \r\n",
        "    \r\n",
        "lons = df2['LONGITUDE'].tolist()\r\n",
        "lats = df2['LATITUDE'].tolist()\r\n",
        "\r\n",
        "\r\n",
        "#print(lons)\r\n",
        "#print(lats)\r\n",
        "\r\n",
        "#plt.scatter(lons, lats, c='r', alpha=0.7, s=200)\r\n",
        "\r\n",
        "\r\n",
        "#plt.show()\r\n",
        "\r\n",
        "\r\n",
        "df2.columns\r\n",
        "'''"
      ],
      "execution_count": null,
      "outputs": []
    }
  ]
}